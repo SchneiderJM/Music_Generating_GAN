{
 "cells": [
  {
   "cell_type": "markdown",
   "metadata": {},
   "source": [
    "## Sequence Learning Trainer\n",
    "\n",
    "This one uses a generator and discriminator with sequence learning capabilities in the form of LSTM and/or GRU layers. This allows the raw audio data to be passed directly into the network without requiring so many input nodes that the whole thing crashes. It may slow down the propagation of a single entry to the point that it is no longer feasible though as LSTM and GRU layers are quite slow to evaluate or train."
   ]
  },
  {
   "cell_type": "code",
   "execution_count": null,
   "metadata": {},
   "outputs": [],
   "source": [
    "#Imports, I've switched from Librosa to scipy for performance\n",
    "#import librosa\n",
    "from scipy.io.wavfile import read as wavread\n",
    "import os\n",
    "import numpy as np\n",
    "import IPython.display as ipd\n",
    "\n",
    "#Sets path to music files\n",
    "#For Windows\n",
    "#path = os.getcwd()+'\\\\EDM_Wav\\\\'\n",
    "#For Linux\n",
    "path = os.getcwd()+'/EDM_WAV/'\n",
    "\n",
    "#Loads music\n",
    "songlist = []\n",
    "#This is loading in a sample song to get the sampling rate\n",
    "\n",
    "#For Windows\n",
    "#sr,test_song = wavread(path+'5061 Philippe Van Mullem - Canopy (Progress Mix).wav')\n",
    "\n",
    "#For Linux (using the weird ffmpeg commandline conversion)\n",
    "sr,test_song = wavread(path+'99806_Silencer_-_Drown_In_Me_feat._Berwitz_(Force_Mass_Motions_Stadium_JKT_Mix).mp3.wav')\n",
    "songnames = os.listdir(path)\n",
    "\n",
    "\n",
    "#Loop over and load all of the songs\n",
    "for i in range(int((len(songnames)*3)/4)):\n",
    "    #This only grabs the left channel for now on Windows\n",
    "    #songlist.append(wavread(path+songnames[i])[1][:,0])\n",
    "    #On Linux I converted it to Mono\n",
    "    songlist.append(wavread(path+songnames[i])[1])"
   ]
  },
  {
   "cell_type": "code",
   "execution_count": null,
   "metadata": {},
   "outputs": [],
   "source": [
    "#This is how a song has to be played\n",
    "ipd.Audio(songlist[0].T,rate=sr)"
   ]
  },
  {
   "cell_type": "code",
   "execution_count": null,
   "metadata": {},
   "outputs": [],
   "source": [
    "#This is only necessary if the songs are of different lengths\n",
    "#Even songs that seem very close can still differ by a few samples\n",
    "#So this is probably worth running\n",
    "\n",
    "#Pads the shorter songs with zeros\n",
    "#####################################\n",
    "#Finds the longest song\n",
    "maxlength = 0\n",
    "for i in songlist:\n",
    "    if (len(i)>maxlength):\n",
    "        maxlength = len(i)\n",
    "\n",
    "#Pads the songs\n",
    "for i in range(len(songlist)):\n",
    "    songlist[i] = np.append(songlist[i],np.zeros(maxlength-len(songlist[i])))\n"
   ]
  },
  {
   "cell_type": "code",
   "execution_count": null,
   "metadata": {},
   "outputs": [],
   "source": []
  }
 ],
 "metadata": {
  "environment": {
   "name": "tf2-gpu.2-1.m50",
   "type": "gcloud",
   "uri": "gcr.io/deeplearning-platform-release/tf2-gpu.2-1:m50"
  },
  "kernelspec": {
   "display_name": "Python 3",
   "language": "python",
   "name": "python3"
  },
  "language_info": {
   "codemirror_mode": {
    "name": "ipython",
    "version": 3
   },
   "file_extension": ".py",
   "mimetype": "text/x-python",
   "name": "python",
   "nbconvert_exporter": "python",
   "pygments_lexer": "ipython3",
   "version": "3.7.6"
  }
 },
 "nbformat": 4,
 "nbformat_minor": 4
}
