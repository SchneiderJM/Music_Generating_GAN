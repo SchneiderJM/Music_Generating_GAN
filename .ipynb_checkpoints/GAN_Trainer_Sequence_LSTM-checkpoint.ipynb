{
 "cells": [
  {
   "cell_type": "markdown",
   "metadata": {},
   "source": [
    "## Sequence Learning Trainer\n",
    "\n",
    "This one uses a generator and discriminator with sequence learning capabilities in the form of LSTM and/or GRU layers. This allows the raw audio data to be passed directly into the network without requiring so many input nodes that the whole thing crashes. It may slow down the propagation of a single entry to the point that it is no longer feasible though as LSTM and GRU layers are quite slow to evaluate or train."
   ]
  },
  {
   "cell_type": "code",
   "execution_count": null,
   "metadata": {},
   "outputs": [],
   "source": []
  }
 ],
 "metadata": {
  "environment": {
   "name": "tf2-gpu.2-1.m50",
   "type": "gcloud",
   "uri": "gcr.io/deeplearning-platform-release/tf2-gpu.2-1:m50"
  },
  "kernelspec": {
   "display_name": "Python 3",
   "language": "python",
   "name": "python3"
  },
  "language_info": {
   "codemirror_mode": {
    "name": "ipython",
    "version": 3
   },
   "file_extension": ".py",
   "mimetype": "text/x-python",
   "name": "python",
   "nbconvert_exporter": "python",
   "pygments_lexer": "ipython3",
   "version": "3.7.6"
  }
 },
 "nbformat": 4,
 "nbformat_minor": 4
}
